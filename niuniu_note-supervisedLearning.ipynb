{
 "cells": [
  {
   "cell_type": "markdown",
   "metadata": {},
   "source": [
    "在开始聊之前，让我介绍一下要使用的工具吧，哒哒哒哒，python"
   ]
  },
  {
   "cell_type": "code",
   "execution_count": 2,
   "metadata": {},
   "outputs": [],
   "source": [
    "import numpy as np\n",
    "import matplotlib.pyplot as plt"
   ]
  },
  {
   "cell_type": "markdown",
   "metadata": {},
   "source": [
    "之后你会看到上面那样的程序块👆，这是jupyter的特色，它能够支持图片，公式，程序以及文本一同编辑，事实上现在有的书本就是通过它编写的，程序在jupyter里能够运行并显示结果，你只需要在Linux或者Windows中点击对应的程序块，然后按下Ctrl+回车键，或者在macOS里按下command+回车，需要注意的是程序块的运行有先后顺序，如果你想要使用的一个程序块里的东西在别的程序块中定义的，那你得先运行那个包含了对应东西的程序块"
   ]
  },
  {
   "cell_type": "markdown",
   "metadata": {},
   "source": [
    "以上的程序块完成的工作就是导入我们所需使用的软件库，numpy是python的一款很强大的数值计算库，而matplotlib则是一款绘图库，可以用来绘制各种图表，import字如其意，用于导入它们，后面的as则是相当于说，这个就按这个名字来喊了，有的库有很多东西，你需要使用其中的一个子模块时你就可以通过一个小点然后来继续打出子模块的名字，就像第二个，我导入matplotlib里面的pyplot子模块，然后以plt的别名在将来调用。"
   ]
  },
  {
   "cell_type": "markdown",
   "metadata": {},
   "source": [
    "**言归正传**，回到监督学习这个点上来，最近天气挺冷的，冬天了，晚上看到了一轮明月，知道了明天早上可能会起霜；我还有一个侄子，特聪明，小小年纪能英文数数到100，家长叫他认识不同的水果，‘这是苹果，apple！’，‘这是香蕉，banana！’，那么将来当小侄子看到了像香蕉的东西的时候，就会想到这是不是香蕉，而我会有对应天气的预测，也是因为以往的经验，学习过程中，**拥有了结果的指引，以数据集的不同特征推断结果，监督便是源于此意**，往你的方向讲，不同的状态下的图片是代表这里怎么样，你做的实验所出的结果代表了哪些因果关系，就可以通过这种方式将数据交给机器学习，机器在这里所做的事，就是统计出不同的特征下与不同结果的联系程度，就如同我在冬天，明月这两个特征下能有起霜的推断，小侄子在又黄又弯长，剥开是白的好吃会有香蕉的推断一样。"
   ]
  }
 ],
 "metadata": {
  "kernelspec": {
   "display_name": "Python 3",
   "language": "python",
   "name": "python3"
  },
  "language_info": {
   "codemirror_mode": {
    "name": "ipython",
    "version": 3
   },
   "file_extension": ".py",
   "mimetype": "text/x-python",
   "name": "python",
   "nbconvert_exporter": "python",
   "pygments_lexer": "ipython3",
   "version": "3.8.12"
  }
 },
 "nbformat": 4,
 "nbformat_minor": 4
}
